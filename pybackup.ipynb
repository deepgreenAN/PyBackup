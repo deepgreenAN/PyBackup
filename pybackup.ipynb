{
 "cells": [
  {
   "cell_type": "code",
   "execution_count": 1,
   "metadata": {
    "ExecuteTime": {
     "end_time": "2020-11-07T08:21:23.840166Z",
     "start_time": "2020-11-07T08:21:23.806252Z"
    }
   },
   "outputs": [],
   "source": [
    "import csv\n",
    "from pathlib import Path\n",
    "import datetime\n",
    "import shutil\n",
    "import time"
   ]
  },
  {
   "cell_type": "code",
   "execution_count": 2,
   "metadata": {
    "ExecuteTime": {
     "end_time": "2020-11-07T08:21:23.886037Z",
     "start_time": "2020-11-07T08:21:23.857119Z"
    }
   },
   "outputs": [],
   "source": [
    "import zipfile"
   ]
  },
  {
   "cell_type": "code",
   "execution_count": 53,
   "metadata": {
    "ExecuteTime": {
     "end_time": "2020-11-07T06:54:43.082820Z",
     "start_time": "2020-11-07T06:51:37.256886Z"
    }
   },
   "outputs": [],
   "source": [
    "source_file_path = Path(\"backup_source\") / Path(\"stock.db\")\n",
    "\n",
    "zip_path = Path(source_file_path.stem+\".zip\")\n",
    "\n",
    "with zipfile.ZipFile(zip_path, 'w', compression=zipfile.ZIP_LZMA) as new_zip:\n",
    "    new_zip.write(source_file_path, arcname=source_file_path.name)"
   ]
  },
  {
   "cell_type": "code",
   "execution_count": 6,
   "metadata": {
    "ExecuteTime": {
     "end_time": "2020-11-07T08:27:04.449674Z",
     "start_time": "2020-11-07T08:27:04.397817Z"
    }
   },
   "outputs": [],
   "source": [
    "def make_zip(source_path, zip_path):\n",
    "    source_path = Path(source_path)\n",
    "    zip_path =zip_path\n",
    "\n",
    "    if zip_path.suffix != \".zip\":\n",
    "        raise ValueError(\"zip_path must be zipfile\")\n",
    "    \n",
    "    with zipfile.ZipFile(zip_path, \"w\", compression=zipfile.ZIP_LZMA) as new_zip:\n",
    "        if source_path.is_file():  # 一つのファイルの場合\n",
    "            new_zip.write(filename=source_path, arcname=source_path.name)\n",
    "            \n",
    "        elif source_path.is_dir():\n",
    "            only_source_root_path = Path(source_path.name)  # 対象ディレクトリをzipファイルに含めたい\n",
    "            def nest_zip(search_path):\n",
    "                if search_path.is_file():  # ファイルの場合\n",
    "                    arc_path = only_source_root_path / search_path.relative_to(source_path)  # 対象ディレクトリ + 相対パス\n",
    "                    new_zip.write(filename=search_path, arcname=arc_path)\n",
    "                elif search_path.is_dir():\n",
    "                    for search_path_one in search_path.iterdir():\n",
    "                        nest_zip(search_path_one)  # ネスト\n",
    "            \n",
    "            nest_zip(source_path)"
   ]
  },
  {
   "cell_type": "code",
   "execution_count": 72,
   "metadata": {
    "ExecuteTime": {
     "end_time": "2020-11-07T08:07:30.278074Z",
     "start_time": "2020-11-07T08:04:03.372952Z"
    }
   },
   "outputs": [
    {
     "name": "stdout",
     "output_type": "stream",
     "text": [
      "AAA\n"
     ]
    }
   ],
   "source": [
    "source_file_path = Path(\"backup_source\") / Path(\"stock.db\")\n",
    "zip_path = Path(source_file_path.stem+\".zip\")\n",
    "\n",
    "make_zip(source_file_path, zip_path)"
   ]
  },
  {
   "cell_type": "code",
   "execution_count": 5,
   "metadata": {
    "ExecuteTime": {
     "end_time": "2020-11-07T08:24:32.141113Z",
     "start_time": "2020-11-07T08:21:33.639949Z"
    }
   },
   "outputs": [
    {
     "name": "stdout",
     "output_type": "stream",
     "text": [
      "BBB\n",
      "DDD\n",
      "CCC\n",
      "source\\dog_akitainu.png\n",
      "CCC\n",
      "source\\stock.db\n",
      "DDD\n",
      "CCC\n",
      "source\\sub_dir\\cat_persian.png\n"
     ]
    }
   ],
   "source": [
    "source_path = Path(\"backup_source\") / Path(\"source\")\n",
    "zip_path = Path(source_path.stem+\".zip\")\n",
    "\n",
    "make_zip(source_path, zip_path)"
   ]
  },
  {
   "cell_type": "code",
   "execution_count": 15,
   "metadata": {
    "ExecuteTime": {
     "end_time": "2020-11-07T08:51:52.309359Z",
     "start_time": "2020-11-07T08:51:51.917418Z"
    }
   },
   "outputs": [],
   "source": [
    "class PyBackUp():\n",
    "    def __init__(self, source_path, backup_path, back_number=6, is_use_text=True, to_zip=False):\n",
    "        source_path = Path(source_path)\n",
    "        if not source_path.exists():\n",
    "            raise ValueError(\"This path does not exists\")\n",
    "        self.source_path = source_path\n",
    "        self.source_name = source_path.name  # ファイル名\n",
    "        self.source_stem = source_path.stem  # 拡張子を除いたファイル名\n",
    "\n",
    "        backup_path = Path(backup_path)\n",
    "        if not backup_path.exists():\n",
    "            backup_path.mkdir()\n",
    "\n",
    "        self.backup_path = backup_path\n",
    "\n",
    "        self.back_number = back_number\n",
    "        self.backup_counter = -1  # 0からスタートするように\n",
    "        \n",
    "        self.to_zip = to_zip\n",
    "        if is_use_text:\n",
    "            self.read_backup_data()\n",
    "\n",
    "    def back_up(self):\n",
    "        self.backup_counter += 1\n",
    "        \n",
    "        backup_number = int((self.backup_counter)%self.back_number)  # 保存するディレクトリに対応\n",
    "        backup_dir_name = \"back_up_\" + str(backup_number)\n",
    "\n",
    "        backup_dir_path = self.backup_path / Path(backup_dir_name)\n",
    "        backup_dst_path = backup_dir_path / Path(self.source_name)  # 実際に保存するパス\n",
    "\n",
    "        if not backup_dir_path.exists():  # バックアップファイルのディレクトリが存在しない場合\n",
    "            backup_dir_path.mkdir(parents=True)  # ディレクトリを作成\n",
    "            \n",
    "        if backup_dst_path.exists():  # すでにバックアップファイルが存在する場合\n",
    "            if backup_dst_path.is_file():  # ファイルの場合\n",
    "                backup_dst_path.unlink()  # 削除\n",
    "            elif backup_dst_path.is_dir():  # ディレクトリの場合\n",
    "                shutil.rmtree(backup_dst_path)\n",
    "\n",
    "        # バックアップファイルのコピー\n",
    "        if self.to_zip:  # zip\n",
    "            backup_dst_path = backup_dst_path.with_suffix(\".zip\")  # zipとつける\n",
    "            make_zip(source_path=self.source_path, zip_path=backup_dst_path)\n",
    "            \n",
    "        else: #zipでなくコピー\n",
    "            if self.source_path.is_file():\n",
    "                shutil.copyfile(src=self.source_path, dst=backup_dst_path)\n",
    "            elif self.source_path.is_dir():\n",
    "                shutil.copytree(src=self.source_path, dst=backup_dst_path)\n",
    "        \n",
    "        backup_data_text_path = backup_dir_path / Path(\"data.csv\")\n",
    "        if not backup_data_text_path.exists():  # バックアップデータの詳細を書いたテキストファイル\n",
    "            backup_data_text_path.touch(exist_ok=True)\n",
    "\n",
    "        # バックアップデータの書き込み・書き換え\n",
    "        with open(backup_data_text_path, \"w\", newline=\"\") as f:\n",
    "            writer = csv.writer(f)\n",
    "            backup_time = datetime.datetime.now()\n",
    "            writer.writerow([\"date\",backup_time.year, backup_time.month, backup_time.day,\n",
    "                            backup_time.hour, backup_time.minute, backup_time.second\n",
    "                            ])\n",
    "            writer.writerow([\"dir_number\", backup_number])\n",
    "            writer.writerow([\"backup_count\", self.backup_counter])\n",
    "\n",
    "\n",
    "        print(\"[{}] back up db_file {}\".format(str(backup_time),str(backup_number)))\n",
    "        return backup_dst_path\n",
    "\n",
    "    def read_backup_data(self):\n",
    "        backup_datetime_list = []\n",
    "        backup_counter_list = []\n",
    "\n",
    "        for backup_dir in self.backup_path.iterdir():\n",
    "            # バックアップファイルの存在確認\n",
    "            if self.to_zip: #Zipの場合\n",
    "                backup_file_path = backup_dir / Path(self.source_stem+\".xz.tar\")  # xz.tarを前提\n",
    "            else:\n",
    "                backup_file_path = backup_dir / Path(self.source_name)  \n",
    "                \n",
    "            if backup_file_path.exists():  # バックアップファイルが存在する場合\n",
    "                backup_data_text_path = backup_dir / Path(\"data.csv\")\n",
    "                if backup_data_text_path.exists():\n",
    "                    # バックアップデータの読み込み\n",
    "                    with open(backup_data_text_path, \"r\") as f:\n",
    "                        reader = csv.reader(f)\n",
    "                        datetime_list = next(reader)\n",
    "                        backup_datetime = datetime.datetime(int(datetime_list[1]),\n",
    "                                                            int(datetime_list[2]),\n",
    "                                                            int(datetime_list[3]),\n",
    "                                                            int(datetime_list[4]),\n",
    "                                                            int(datetime_list[5]),\n",
    "                                                            int(datetime_list[6]) \n",
    "                                                            )\n",
    "                        next(reader)  # この行はいらなかったかも\n",
    "\n",
    "                        counter_list = next(reader)\n",
    "                        backup_counter_list.append(counter_list[1])\n",
    "\n",
    "                        backup_datetime_list.append(backup_datetime)\n",
    "\n",
    "        # バックアップデータが存在する場合\n",
    "        if len(backup_datetime_list) > 0:\n",
    "            # 最近のインデックスを求める, maxカウンターでもいいけど念のため\n",
    "            def get_timestamp(datetime):\n",
    "                return datetime.timestamp()\n",
    "            max_date = max(backup_datetime_list, key=get_timestamp)\n",
    "            max_date_index = backup_datetime_list.index(max_date)\n",
    "            \n",
    "            self.backup_counter = int(backup_counter_list[max_date_index])"
   ]
  },
  {
   "cell_type": "code",
   "execution_count": 8,
   "metadata": {
    "ExecuteTime": {
     "end_time": "2020-11-07T08:36:51.894337Z",
     "start_time": "2020-11-07T08:36:51.768668Z"
    }
   },
   "outputs": [
    {
     "data": {
      "text/plain": [
       "WindowsPath('aaa.zip')"
      ]
     },
     "execution_count": 8,
     "metadata": {},
     "output_type": "execute_result"
    }
   ],
   "source": [
    "a = Path(\"aaa\")\n",
    "b = a.with_suffix(\".zip\")\n",
    "b"
   ]
  },
  {
   "cell_type": "markdown",
   "metadata": {},
   "source": [
    "### バックアップ"
   ]
  },
  {
   "cell_type": "code",
   "execution_count": 16,
   "metadata": {
    "ExecuteTime": {
     "end_time": "2020-11-07T08:51:54.111536Z",
     "start_time": "2020-11-07T08:51:54.080621Z"
    }
   },
   "outputs": [],
   "source": [
    "source_file_path = Path(\"backup_source\") / Path(\"stock.db\")\n",
    "\n",
    "file_backup_path = Path(\"backup\") / Path(\"file_backup\")\n",
    "\n",
    "py_back_up = PyBackUp(source_path=source_file_path, backup_path=file_backup_path, to_zip=True)"
   ]
  },
  {
   "cell_type": "code",
   "execution_count": 11,
   "metadata": {
    "ExecuteTime": {
     "end_time": "2020-11-07T08:42:57.099370Z",
     "start_time": "2020-11-07T08:39:34.102409Z"
    }
   },
   "outputs": [
    {
     "name": "stdout",
     "output_type": "stream",
     "text": [
      "[2020-11-07 17:42:57.078426] back up db_file 0\n"
     ]
    },
    {
     "data": {
      "text/plain": [
       "WindowsPath('backup/file_backup/back_up_0/stock.zip')"
      ]
     },
     "execution_count": 11,
     "metadata": {},
     "output_type": "execute_result"
    }
   ],
   "source": [
    "py_back_up.back_up()"
   ]
  },
  {
   "cell_type": "code",
   "execution_count": 17,
   "metadata": {
    "ExecuteTime": {
     "end_time": "2020-11-07T08:51:55.894770Z",
     "start_time": "2020-11-07T08:51:55.865846Z"
    }
   },
   "outputs": [],
   "source": [
    "source_path = Path(\"backup_source\") / Path(\"source\")\n",
    "\n",
    "backup_path = Path(\"backup\") / Path(\"dir_backup\")\n",
    "\n",
    "py_back_up = PyBackUp(source_path=source_path, backup_path=backup_path, to_zip=True)"
   ]
  },
  {
   "cell_type": "code",
   "execution_count": 13,
   "metadata": {
    "ExecuteTime": {
     "end_time": "2020-11-07T08:50:04.638109Z",
     "start_time": "2020-11-07T08:47:44.377335Z"
    }
   },
   "outputs": [
    {
     "name": "stdout",
     "output_type": "stream",
     "text": [
      "[2020-11-07 17:50:04.616165] back up db_file 0\n"
     ]
    },
    {
     "data": {
      "text/plain": [
       "WindowsPath('backup/dir_backup/back_up_0/source.zip')"
      ]
     },
     "execution_count": 13,
     "metadata": {},
     "output_type": "execute_result"
    }
   ],
   "source": [
    "py_back_up.back_up()"
   ]
  }
 ],
 "metadata": {
  "kernelspec": {
   "display_name": "torch_py37",
   "language": "python",
   "name": "torch_py37"
  },
  "toc": {
   "base_numbering": 1,
   "nav_menu": {},
   "number_sections": true,
   "sideBar": true,
   "skip_h1_title": false,
   "title_cell": "Table of Contents",
   "title_sidebar": "Contents",
   "toc_cell": false,
   "toc_position": {},
   "toc_section_display": true,
   "toc_window_display": false
  }
 },
 "nbformat": 4,
 "nbformat_minor": 4
}
