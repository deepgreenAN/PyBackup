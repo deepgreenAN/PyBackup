{
 "cells": [
  {
   "cell_type": "code",
   "execution_count": 1,
   "metadata": {
    "ExecuteTime": {
     "end_time": "2021-04-01T15:27:05.772635Z",
     "start_time": "2021-04-01T15:27:05.636999Z"
    }
   },
   "outputs": [],
   "source": [
    "import unittest"
   ]
  },
  {
   "cell_type": "code",
   "execution_count": 22,
   "metadata": {
    "ExecuteTime": {
     "end_time": "2021-04-01T22:35:27.767526Z",
     "start_time": "2021-04-01T22:35:27.711076Z"
    }
   },
   "outputs": [],
   "source": [
    "from pathlib import Path\n",
    "import zipfile\n",
    "import shutil\n",
    "import datetime\n",
    "import time"
   ]
  },
  {
   "cell_type": "code",
   "execution_count": 2,
   "metadata": {
    "ExecuteTime": {
     "end_time": "2021-04-01T15:29:06.281822Z",
     "start_time": "2021-04-01T15:29:06.182086Z"
    }
   },
   "outputs": [
    {
     "name": "stdout",
     "output_type": "stream",
     "text": [
      "E:\\py_backup\n"
     ]
    }
   ],
   "source": [
    "%cd .."
   ]
  },
  {
   "cell_type": "code",
   "execution_count": 3,
   "metadata": {
    "ExecuteTime": {
     "end_time": "2021-04-01T15:29:12.753982Z",
     "start_time": "2021-04-01T15:29:12.730049Z"
    }
   },
   "outputs": [],
   "source": [
    "from py_backup import PyBackUp, make_zip"
   ]
  },
  {
   "cell_type": "code",
   "execution_count": 17,
   "metadata": {
    "ExecuteTime": {
     "end_time": "2021-04-01T16:16:37.151302Z",
     "start_time": "2021-04-01T16:16:37.065530Z"
    }
   },
   "outputs": [],
   "source": [
    "class TestMakeZip(unittest.TestCase):\n",
    "    def test_make_zip_simple(self):\n",
    "        temp_file_path = Path(\"test/temp.txt\")\n",
    "        temp_zip_path = Path(\"test/temp_zip.zip\")\n",
    "        \n",
    "        written_str = \"hello!\"\n",
    "        \n",
    "        with open(temp_file_path, \"w\") as f:\n",
    "            f.write(written_str)\n",
    "            \n",
    "        make_zip(temp_file_path, temp_zip_path)\n",
    "        \n",
    "        with zipfile.ZipFile(temp_zip_path) as fzip:\n",
    "            with fzip.open(\"temp.txt\") as finz:\n",
    "                read_str = finz.read().decode()  # 厳密にはエンコーディングが必要\n",
    "                        \n",
    "        self.assertEqual(written_str, read_str)\n",
    "        \n",
    "        temp_file_path.unlink()\n",
    "        temp_zip_path.unlink()\n",
    "    \n",
    "    \n",
    "    def test_make_zip_nest(self):\n",
    "        temp_file_parent = Path(\"test/temp\")\n",
    "        if not temp_file_parent.exists():\n",
    "            temp_file_parent.mkdir()\n",
    "        temp_file_path = temp_file_parent / Path(\"temp.txt\")\n",
    "        \n",
    "        temp_source_path = Path(\"test/temp\")\n",
    "        \n",
    "        temp_zip_path = Path(\"test/temp_zip.zip\")\n",
    "        \n",
    "        written_str = \"hello!\"\n",
    "        \n",
    "        with open(temp_file_path, \"w\") as f:\n",
    "            f.write(written_str)\n",
    "            \n",
    "        make_zip(temp_source_path, temp_zip_path)\n",
    "        \n",
    "        with zipfile.ZipFile(temp_zip_path) as fzip:\n",
    "            with fzip.open(\"temp/temp.txt\") as finz:\n",
    "                read_str = finz.read().decode()  # 厳密にはエンコーディングが必要\n",
    "                        \n",
    "        self.assertEqual(written_str, read_str)\n",
    "        \n",
    "        temp_file_path.unlink()\n",
    "        shutil.rmtree(temp_file_parent)"
   ]
  },
  {
   "cell_type": "code",
   "execution_count": 76,
   "metadata": {
    "ExecuteTime": {
     "end_time": "2021-04-01T23:51:29.135182Z",
     "start_time": "2021-04-01T23:51:28.839391Z"
    }
   },
   "outputs": [],
   "source": [
    "class TestBackup(unittest.TestCase):\n",
    "    def _get_all_backup_datetime(self, backup_dir_path):\n",
    "        backup_dirs = backup_dir_path.iterdir()\n",
    "        datetime_list = []\n",
    "        for backup_dir in backup_dirs:\n",
    "            backup_file_first = list(backup_dir.iterdir())[0]\n",
    "            if backup_file_first.is_file():  # ファイルだった場合\n",
    "                backup_file_path_any = backup_file_first\n",
    "                \n",
    "            else:  # ディレクトリだった場合\n",
    "                backup_file_first_first = list(backup_file_first.iterdir())[0]\n",
    "                backup_file_path_any = backup_file_first_first\n",
    "                \n",
    "            update_timestamp = backup_file_path_any.stat().st_mtime\n",
    "            update_datetime = datetime.datetime.fromtimestamp(update_timestamp)\n",
    "            datetime_list.append(update_datetime)\n",
    "            \n",
    "        return datetime_list\n",
    "    \n",
    "    def _get_latest_backup_path(self, backup_dir_path):\n",
    "        backup_dir_list = list(backup_dir_path.iterdir())\n",
    "        datetime_list = self._get_all_backup_datetime(backup_dir_path)\n",
    "        lately_datetime_index = datetime_list.index(max(datetime_list))\n",
    "        return backup_dir_list[lately_datetime_index]\n",
    "    \n",
    "    def _read_backup_raw(self, one_backup_dir_path, relative_path):\n",
    "        backup_file_path = one_backup_dir_path / relative_path\n",
    "        with open(backup_file_path, \"r\") as f:\n",
    "            read_str = f.read()\n",
    "            \n",
    "        return read_str\n",
    "    \n",
    "    def _read_backup_zip(self, one_backup_dir_path, zipfile_name, relative_from_zip):\n",
    "        with zipfile.ZipFile(one_backup_dir_path / zipfile_name) as fzip:\n",
    "            with fzip.open(str(relative_from_zip)) as finz:\n",
    "                read_str = finz.read().decode()\n",
    "        return read_str\n",
    "    \n",
    "    def setUp(self):\n",
    "        temp_backup_dir = Path(\"test/backup\")\n",
    "        self.assertFalse(temp_backup_dir.exists())\n",
    "        if not temp_backup_dir.exists():\n",
    "            temp_backup_dir.mkdir()\n",
    "            \n",
    "        temp_source_dir = Path(\"test/source\")\n",
    "        self.assertFalse(temp_source_dir.exists())\n",
    "        if not temp_source_dir.exists():\n",
    "            temp_source_dir.mkdir()\n",
    "    \n",
    "    def tearDown(self):\n",
    "        # バックアップファイルを全て削除\n",
    "        temp_backup_dir = Path(\"test/backup\")\n",
    "        self.assertTrue(temp_backup_dir.exists())\n",
    "        shutil.rmtree(temp_backup_dir)\n",
    "        \n",
    "        temp_source_dir = Path(\"test/source\")\n",
    "        self.assertTrue(temp_source_dir.exists())\n",
    "        shutil.rmtree(temp_source_dir)\n",
    "    \n",
    "    def test_backup_simple_raw(self):\n",
    "        backup_number = 2\n",
    "        temp_source_path = Path(\"test/temp.txt\")\n",
    "        temp_backup_dir = Path(\"test/backup\")\n",
    "            \n",
    "        if not temp_source_path.exists():\n",
    "            temp_source_path.touch()\n",
    "        \n",
    "        backupper = PyBackUp(temp_source_path, temp_backup_dir, backup_number, to_zip=False)\n",
    "        backup_relative_path = Path(\"temp.txt\")\n",
    "        \n",
    "        # バックアップとチェック\n",
    "        for i in range(backup_number+1):\n",
    "            written_str = \"hello!\"*i\n",
    "            # ソースファイルの書き換え\n",
    "            with open(temp_source_path, \"w\") as f:\n",
    "                f.write(written_str)\n",
    "            \n",
    "            # バックアップ\n",
    "            backupper.back_up()\n",
    "            time.sleep(3) # ファイル作成の時間取得の誤差のため\n",
    "            \n",
    "            # 最新のバックアップファイルを取得\n",
    "            latest_backup_dir_path = self._get_latest_backup_path(temp_backup_dir)\n",
    "            \n",
    "            read_str = self._read_backup_raw(latest_backup_dir_path, backup_relative_path)\n",
    "            self.assertEqual(written_str, read_str)\n",
    "            \n",
    "        # バックアップディレクトリの数\n",
    "        self.assertEqual(len(list(temp_backup_dir.iterdir())), backup_number)\n",
    "        \n",
    "    def test_backup_simple_zip(self):\n",
    "        backup_number = 2\n",
    "        temp_source_path = Path(\"test/temp.txt\")\n",
    "        temp_backup_dir = Path(\"test/backup\")\n",
    "            \n",
    "        if not temp_source_path.exists():\n",
    "            temp_source_path.touch()\n",
    "        \n",
    "        backupper = PyBackUp(temp_source_path, temp_backup_dir, backup_number, to_zip=True)\n",
    "        \n",
    "        zip_name = Path(\"temp.zip\")\n",
    "        relative_from_zip = Path(\"temp.txt\")\n",
    "        \n",
    "        # バックアップとチェック\n",
    "        for i in range(backup_number+1):\n",
    "            written_str = \"hello!\"*i\n",
    "            # ソースファイルの書き換え\n",
    "            with open(temp_source_path, \"w\") as f:\n",
    "                f.write(written_str)\n",
    "            \n",
    "            # バックアップ\n",
    "            backupper.back_up()\n",
    "            time.sleep(3) # ファイル作成の時間取得の誤差のため\n",
    "            \n",
    "            # 最新のバックアップファイルを取得\n",
    "            latest_backup_dir_path = self._get_latest_backup_path(temp_backup_dir)\n",
    "            \n",
    "            read_str = self._read_backup_zip(latest_backup_dir_path, zip_name, relative_from_zip)\n",
    "            self.assertEqual(written_str, read_str)\n",
    "            \n",
    "        # バックアップディレクトリの数\n",
    "        self.assertEqual(len(list(temp_backup_dir.iterdir())), backup_number)\n",
    "        \n",
    "    def test_backup_nest_zip(self):\n",
    "        backup_number = 2\n",
    "        temp_source_path = Path(\"test/source\")\n",
    "        temp_backup_dir = Path(\"test/backup\")\n",
    "        \n",
    "        temp_source_file_path = temp_source_path / Path(\"temp.txt\")\n",
    "        if not temp_source_file_path.exists():\n",
    "            temp_source_file_path.touch()\n",
    "        \n",
    "        backupper = PyBackUp(temp_source_path, temp_backup_dir, backup_number, to_zip=False)\n",
    "        backup_relative_path = Path(\"source/temp.txt\")\n",
    "        \n",
    "        # バックアップとチェック\n",
    "        for i in range(backup_number+1):\n",
    "            written_str = \"hello!\"*i\n",
    "            # ソースファイルの書き換え\n",
    "            with open(temp_source_file_path, \"w\") as f:\n",
    "                f.write(written_str)\n",
    "            \n",
    "            # バックアップ\n",
    "            backupper.back_up()\n",
    "            time.sleep(3) # ファイル作成の時間取得の誤差のため\n",
    "            \n",
    "            # 最新のバックアップファイルを取得\n",
    "            latest_backup_dir_path = self._get_latest_backup_path(temp_backup_dir)\n",
    "            \n",
    "            read_str = self._read_backup_raw(latest_backup_dir_path, backup_relative_path)\n",
    "            self.assertEqual(written_str, read_str)\n",
    "            \n",
    "        # バックアップディレクトリの数\n",
    "        self.assertEqual(len(list(temp_backup_dir.iterdir())), backup_number)\n",
    "        \n",
    "        def test_backup_nest_raw(self):\n",
    "            backup_number = 2\n",
    "            temp_source_path = Path(\"test/source\")\n",
    "            temp_backup_dir = Path(\"test/backup\")\n",
    "\n",
    "            temp_source_file_path = temp_source_path / Path(\"temp.txt\")\n",
    "            if not temp_source_file_path.exists():\n",
    "                temp_source_file_path.touch()\n",
    "\n",
    "            backupper = PyBackUp(temp_source_path, temp_backup_dir, backup_number, to_zip=False)\n",
    "\n",
    "            zip_name = Path(\"temp.zip\")\n",
    "            relative_from_zip = Path(\"source/temp.txt\")\n",
    "\n",
    "            # バックアップとチェック\n",
    "            for i in range(backup_number+1):\n",
    "                written_str = \"hello!\"*i\n",
    "                # ソースファイルの書き換え\n",
    "                with open(temp_source_file_path, \"w\") as f:\n",
    "                    f.write(written_str)\n",
    "\n",
    "                # バックアップ\n",
    "                backupper.back_up()\n",
    "                time.sleep(3) # ファイル作成の時間取得の誤差のため\n",
    "\n",
    "                # 最新のバックアップファイルを取得\n",
    "                latest_backup_dir_path = self._get_latest_backup_path(temp_backup_dir)\n",
    "\n",
    "                read_str = self._read_backup_zip(latest_backup_dir_path, zip_name, relative_from_zip)\n",
    "                self.assertEqual(written_str, read_str)\n",
    "\n",
    "            # バックアップディレクトリの数\n",
    "            self.assertEqual(len(list(temp_backup_dir.iterdir())), backup_number)"
   ]
  },
  {
   "cell_type": "code",
   "execution_count": 77,
   "metadata": {
    "ExecuteTime": {
     "end_time": "2021-04-01T23:52:09.937923Z",
     "start_time": "2021-04-01T23:51:37.197771Z"
    }
   },
   "outputs": [
    {
     "name": "stderr",
     "output_type": "stream",
     "text": [
      "test_backup_nest_zip (__main__.TestBackup) ... "
     ]
    },
    {
     "name": "stdout",
     "output_type": "stream",
     "text": [
      "[2021-04-02 08:51:37.939402] backup start.\n",
      "[2021-04-02 08:51:38.782125] back up db_file 0\n",
      "[2021-04-02 08:51:38.850945] backup end.\n",
      "[2021-04-02 08:51:41.898569] backup start.\n",
      "[2021-04-02 08:51:43.360613] back up db_file 1\n",
      "[2021-04-02 08:51:43.394968] backup end.\n",
      "[2021-04-02 08:51:46.431553] backup start.\n",
      "[2021-04-02 08:51:46.596937] back up db_file 0\n",
      "[2021-04-02 08:51:46.600925] backup end.\n"
     ]
    },
    {
     "name": "stderr",
     "output_type": "stream",
     "text": [
      "ok\n",
      "test_backup_simple_raw (__main__.TestBackup) ... "
     ]
    },
    {
     "name": "stdout",
     "output_type": "stream",
     "text": [
      "[2021-04-02 08:51:49.986982] backup start.\n",
      "[2021-04-02 08:51:50.147536] back up db_file 0\n",
      "[2021-04-02 08:51:50.151526] backup end.\n",
      "[2021-04-02 08:51:53.176703] backup start.\n",
      "[2021-04-02 08:51:53.329476] back up db_file 1\n",
      "[2021-04-02 08:51:53.333467] backup end.\n",
      "[2021-04-02 08:51:56.375936] backup start.\n",
      "[2021-04-02 08:51:56.397280] back up db_file 0\n",
      "[2021-04-02 08:51:56.403264] backup end.\n"
     ]
    },
    {
     "name": "stderr",
     "output_type": "stream",
     "text": [
      "ok\n",
      "test_backup_simple_zip (__main__.TestBackup) ... "
     ]
    },
    {
     "name": "stdout",
     "output_type": "stream",
     "text": [
      "[2021-04-02 08:51:59.748157] backup start.\n",
      "[2021-04-02 08:51:59.927494] back up db_file 0\n",
      "[2021-04-02 08:51:59.932482] backup end.\n",
      "[2021-04-02 08:52:03.047630] backup start.\n",
      "[2021-04-02 08:52:03.235623] back up db_file 1\n",
      "[2021-04-02 08:52:03.247595] backup end.\n",
      "[2021-04-02 08:52:06.338931] backup start.\n",
      "[2021-04-02 08:52:06.372158] back up db_file 0\n",
      "[2021-04-02 08:52:06.377144] backup end.\n"
     ]
    },
    {
     "name": "stderr",
     "output_type": "stream",
     "text": [
      "ok\n",
      "test_make_zip_nest (__main__.TestMakeZip) ... ok\n",
      "test_make_zip_simple (__main__.TestMakeZip) ... ok\n",
      "\n",
      "----------------------------------------------------------------------\n",
      "Ran 5 tests in 32.685s\n",
      "\n",
      "OK\n"
     ]
    },
    {
     "data": {
      "text/plain": [
       "<unittest.main.TestProgram at 0x1d45883dc08>"
      ]
     },
     "execution_count": 77,
     "metadata": {},
     "output_type": "execute_result"
    }
   ],
   "source": [
    "unittest.main(argv=['first-arg-is-ignored', \"-v\"], exit=False)\n",
    "#unittest.main(argv=['first-arg-is-ignored'], exit=False)"
   ]
  },
  {
   "cell_type": "code",
   "execution_count": null,
   "metadata": {},
   "outputs": [],
   "source": []
  }
 ],
 "metadata": {
  "kernelspec": {
   "display_name": "test_py37",
   "language": "python",
   "name": "test_py37"
  },
  "language_info": {
   "codemirror_mode": {
    "name": "ipython",
    "version": 3
   },
   "file_extension": ".py",
   "mimetype": "text/x-python",
   "name": "python",
   "nbconvert_exporter": "python",
   "pygments_lexer": "ipython3",
   "version": "3.7.10"
  },
  "toc": {
   "base_numbering": 1,
   "nav_menu": {},
   "number_sections": true,
   "sideBar": true,
   "skip_h1_title": true,
   "title_cell": "Table of Contents",
   "title_sidebar": "Contents",
   "toc_cell": false,
   "toc_position": {},
   "toc_section_display": true,
   "toc_window_display": false
  }
 },
 "nbformat": 4,
 "nbformat_minor": 4
}
